{
 "cells": [
  {
   "cell_type": "markdown",
   "metadata": {},
   "source": [
    "# Google Calendar API\n",
    "\n",
    "https://developers.google.com/calendar/quickstart/python"
   ]
  },
  {
   "cell_type": "code",
   "execution_count": 1,
   "metadata": {},
   "outputs": [],
   "source": [
    "\"\"\"\n",
    "Shows basic usage of the Google Calendar API. Creates a Google Calendar API\n",
    "service object and outputs a list of the next 10 events on the user's calendar.\n",
    "\"\"\"\n",
    "from __future__ import print_function\n",
    "from apiclient.discovery import build\n",
    "from httplib2 import Http\n",
    "from oauth2client import file, client, tools\n",
    "import datetime"
   ]
  },
  {
   "cell_type": "code",
   "execution_count": 2,
   "metadata": {},
   "outputs": [],
   "source": [
    "# Setup the Calendar API\n",
    "SCOPES = 'https://www.googleapis.com/auth/calendar.readonly'\n",
    "store = file.Storage('credentials.json')\n",
    "creds = store.get()\n",
    "if not creds or creds.invalid:\n",
    "    flow = client.flow_from_clientsecrets('client_secret.json', SCOPES)\n",
    "    creds = tools.run_flow(flow, store)\n",
    "service = build('calendar', 'v3', http=creds.authorize(Http()))"
   ]
  },
  {
   "cell_type": "code",
   "execution_count": 3,
   "metadata": {},
   "outputs": [
    {
     "name": "stdout",
     "output_type": "stream",
     "text": [
      "Getting the upcoming 10 events\n"
     ]
    }
   ],
   "source": [
    "# Call the Calendar API\n",
    "now = datetime.datetime.utcnow().isoformat() + 'Z' # 'Z' indicates UTC time\n",
    "print('Getting the upcoming 10 events')\n",
    "events_result = service.events().list(calendarId='primary', timeMin=now,\n",
    "                                      maxResults=10, singleEvents=True,\n",
    "                                      orderBy='startTime').execute()\n",
    "events = events_result.get('items', [])"
   ]
  },
  {
   "cell_type": "code",
   "execution_count": 4,
   "metadata": {},
   "outputs": [
    {
     "name": "stdout",
     "output_type": "stream",
     "text": [
      "2018-07-06T10:15:00+02:00 Sandu@work\n"
     ]
    }
   ],
   "source": [
    "if not events:\n",
    "    print('No upcoming events found.')\n",
    "for event in events:\n",
    "    start = event['start'].get('dateTime', event['start'].get('date'))\n",
    "    print(start, event['summary'])"
   ]
  },
  {
   "cell_type": "code",
   "execution_count": null,
   "metadata": {},
   "outputs": [],
   "source": []
  },
  {
   "cell_type": "code",
   "execution_count": null,
   "metadata": {},
   "outputs": [],
   "source": []
  },
  {
   "cell_type": "code",
   "execution_count": 5,
   "metadata": {},
   "outputs": [],
   "source": [
    "import pytz\n",
    "import re"
   ]
  },
  {
   "cell_type": "code",
   "execution_count": 6,
   "metadata": {},
   "outputs": [
    {
     "name": "stdout",
     "output_type": "stream",
     "text": [
      "edgar@bellmetric.net\n",
      "asser@bellmetric.net\n",
      "jakub@bellmetric.net\n",
      "sandu@bellmetric.net\n",
      "christoffer@bellmetric.net\n",
      "oana@bellmetric.net\n",
      "janus@bellmetric.net\n",
      "mads-emil@bellmetric.net\n",
      "maximilian@bellmetric.net\n",
      "marcus@bellmetric.net\n",
      "Contacts\n",
      "Holidays in Denmark\n",
      "Week Numbers\n"
     ]
    }
   ],
   "source": [
    "page_token = None\n",
    "while True:\n",
    "    calendar_list = service.calendarList().list(pageToken=page_token).execute()\n",
    "    for calendar_list_entry in calendar_list['items']:\n",
    "        print(calendar_list_entry['summary'])\n",
    "        \n",
    "    page_token = calendar_list.get('nextPageToken')\n",
    "    if not page_token:\n",
    "        break"
   ]
  },
  {
   "cell_type": "code",
   "execution_count": null,
   "metadata": {},
   "outputs": [],
   "source": []
  },
  {
   "cell_type": "code",
   "execution_count": 7,
   "metadata": {},
   "outputs": [],
   "source": [
    "items = []\n",
    "for calendar_list_entry in calendar_list['items']:\n",
    "    if '@' in calendar_list_entry['summary']:\n",
    "        items.append({'id': calendar_list_entry['summary']})"
   ]
  },
  {
   "cell_type": "code",
   "execution_count": 8,
   "metadata": {},
   "outputs": [],
   "source": [
    "timezone = 'Europe/Copenhagen'\n",
    "body = {\n",
    "    \"timeMin\": now,\n",
    "    \"timeMax\": pytz.timezone(timezone).localize(datetime.datetime.strptime((datetime.datetime.now() + \n",
    "            datetime.timedelta(1)).isoformat().split('T')[0], '%Y-%m-%d')).isoformat(),\n",
    "    \"timeZone\": timezone,\n",
    "#     \"groupExpansionMax\": integer,\n",
    "#     \"calendarExpansionMax\": integer,\n",
    "    \"items\": items\n",
    "}"
   ]
  },
  {
   "cell_type": "code",
   "execution_count": 9,
   "metadata": {
    "scrolled": true
   },
   "outputs": [],
   "source": [
    "freebusy = service.freebusy().query(body=body).execute()"
   ]
  },
  {
   "cell_type": "code",
   "execution_count": 10,
   "metadata": {},
   "outputs": [
    {
     "name": "stdout",
     "output_type": "stream",
     "text": [
      "Sandu \t-->\t 18:15\n"
     ]
    }
   ],
   "source": [
    "for empl in freebusy['calendars']:\n",
    "    if freebusy['calendars'][empl]['busy'] != []:\n",
    "        # Deal with vacations\n",
    "        event = service.events().list(calendarId=empl, timeMin=now,\n",
    "                                      maxResults=1, singleEvents=True,\n",
    "                                      orderBy='startTime').execute()\n",
    "        try:\n",
    "            td = (datetime.datetime.strptime(event['items'][0]['end']['date'],'%Y-%m-%d') - \\\n",
    "                  datetime.datetime.strptime(event['items'][0]['start']['date'],'%Y-%m-%d'))\n",
    "        except:\n",
    "            td = (datetime.datetime.strptime(event['items'][0]['end']['dateTime'].split('T')[0],'%Y-%m-%d') - \\\n",
    "                  datetime.datetime.strptime(event['items'][0]['start']['dateTime'].split('T')[0],'%Y-%m-%d'))\n",
    "        \n",
    "        if td.days == 0:\n",
    "            print(empl.split('@')[0].capitalize(),'\\t-->\\t', re.search('(?<=T).....', \n",
    "                freebusy['calendars'][empl]['busy'][0]['end']).group())"
   ]
  },
  {
   "cell_type": "code",
   "execution_count": null,
   "metadata": {},
   "outputs": [],
   "source": [
    "\n"
   ]
  }
 ],
 "metadata": {
  "kernelspec": {
   "display_name": "Python 3",
   "language": "python",
   "name": "python3"
  },
  "language_info": {
   "codemirror_mode": {
    "name": "ipython",
    "version": 3
   },
   "file_extension": ".py",
   "mimetype": "text/x-python",
   "name": "python",
   "nbconvert_exporter": "python",
   "pygments_lexer": "ipython3",
   "version": "3.6.5"
  }
 },
 "nbformat": 4,
 "nbformat_minor": 2
}
